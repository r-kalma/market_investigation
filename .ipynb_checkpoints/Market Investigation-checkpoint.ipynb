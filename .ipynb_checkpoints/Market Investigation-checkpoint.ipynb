{
 "cells": [
  {
   "cell_type": "code",
   "execution_count": 1,
   "metadata": {
    "collapsed": false
   },
   "outputs": [
    {
     "name": "stderr",
     "output_type": "stream",
     "text": [
      "/home/roelof/anaconda2/lib/python2.7/site-packages/matplotlib/__init__.py:872: UserWarning: axes.color_cycle is deprecated and replaced with axes.prop_cycle; please use the latter.\n",
      "  warnings.warn(self.msg_depr % (key, alt_key))\n"
     ]
    }
   ],
   "source": [
    "# special IPython command to prepare the notebook for matplotlib\n",
    "%matplotlib inline \n",
    "\n",
    "from fnmatch import fnmatch\n",
    "\n",
    "import numpy as np\n",
    "import pandas as pd\n",
    "import matplotlib.pyplot as plt\n",
    "import requests\n",
    "from pattern import web\n",
    "\n",
    "pd.set_option('display.width', 500)\n",
    "pd.set_option('display.max_columns', 100)\n",
    "pd.set_option('display.notebook_repr_html', True)\n",
    "\n",
    "import seaborn as sns #sets up styles and gives us more plotting options\n",
    "import dateutil.parser as dparser\n",
    "\n",
    "plt.rcParams['figure.figsize'] = (20.0, 8.0)\n"
   ]
  },
  {
   "cell_type": "code",
   "execution_count": 2,
   "metadata": {
    "collapsed": false
   },
   "outputs": [
    {
     "data": {
      "text/plain": [
       "<matplotlib.text.Text at 0x7ffab674d4d0>"
      ]
     },
     "execution_count": 2,
     "metadata": {},
     "output_type": "execute_result"
    },
    {
     "data": {
      "image/png": "[encoded data removed]",
      "text/plain": [
       "<matplotlib.figure.Figure at 0x7ffae1d41c50>"
      ]
     },
     "metadata": {},
     "output_type": "display_data"
    }
   ],
   "source": [
    "branch = pd.read_csv(\"companies per branch.csv\",index_col=\"Branches_short\")\n",
    "ax1 = branch.Total.plot(kind=\"bar\", legend=\"True\")\n",
    "ax1.set_title(\"Companies Per Branch in the Netherlands Q1 2016\")"
   ]
  },
  {
   "cell_type": "markdown",
   "metadata": {},
   "source": [
    "Looking at the graph above we can derive that M is the biggest. Lets sort the list and look at the cumulative values."
   ]
  },
  {
   "cell_type": "code",
   "execution_count": null,
   "metadata": {
    "collapsed": false
   },
   "outputs": [],
   "source": [
    "branch_sorted = branch.sort_values(\"Total\", ascending=0).drop(branch.columns[[0,1,3,4,5,6,7,8,9,10,11,12]], axis=1)\n",
    "branch_sorted[\"%\"]=branch_sorted.Total/branch_sorted.Total.sum()\n",
    "branch_sorted[\"cumulative%\"]=branch_sorted.Total.cumsum()/branch_sorted.Total.sum()\n",
    "\n",
    "print branch_sorted\n",
    "#branch_sorted[\"cumulative%\"].plot(kind=\"line\", xticks=branch_sorted[\"Branches_short\"])"
   ]
  },
  {
   "cell_type": "markdown",
   "metadata": {},
   "source": [
    "### We can now clearly see where the focus should be. By looking at the first 5 industries you have already focussed on ~60% of the market. The first 5 industries are:"
   ]
  },
  {
   "cell_type": "code",
   "execution_count": null,
   "metadata": {
    "collapsed": false
   },
   "outputs": [],
   "source": [
    "#branch.sort_values.bedrijfstakken_SBI_2008\n",
    "branch.sort_values(\"Total\", ascending=0).bedrijfstakken_SBI_2008[0:5]"
   ]
  },
  {
   "cell_type": "markdown",
   "metadata": {},
   "source": [
    "# Branche levels\n",
    "\n",
    "Er is nog preciesere data beschikbaar bij CBS opgesplits in de grote van het bedrijf en de aard van de business. "
   ]
  },
  {
   "cell_type": "code",
   "execution_count": null,
   "metadata": {
    "collapsed": false
   },
   "outputs": [],
   "source": [
    "levels = pd.read_csv(\"companies per level.csv\", index_col=\"Onderwerpen\")\n",
    "#print levels[5:7]\n",
    "#levels.tail(10)\n",
    "\n",
    "# remove all totaal bedrijven which are zero\n",
    "levels = levels.loc[~(levels[\"Totaal bedrijven\"]==0)]\n",
    "# remove all duplicates \n",
    "levels = levels[~levels.duplicated([\"Totaal bedrijven\"])]\n",
    "\n",
    "#drop columns before doing graph\n",
    "levels.sort_values(\"Totaal bedrijven\", ascending=0).drop(levels.columns[[0,1,2,3]], axis=1)[0:10].T.plot(kind=\"line\")\n"
   ]
  },
  {
   "cell_type": "markdown",
   "metadata": {},
   "source": [
    "Gesorteerde lijst van alle onderwerpen. We zien hier dat de 1 FTE deze lijst deze lijst een \"scheef\" trekt. Om de grafieken beter te kunnen bestuderen, laten we de kolom 1 FTE weg."
   ]
  },
  {
   "cell_type": "code",
   "execution_count": null,
   "metadata": {
    "collapsed": false
   },
   "outputs": [],
   "source": [
    "levels.sort_values(\"2 FTE\", ascending=0).drop(levels.columns[[0,1,2,3,4]], axis=1)[0:10].T.plot(kind=\"line\", title=\"10 largest markets per 2 FTE size companies\")\n",
    "levels.sort_values(\"3-5 FTE\", ascending=0).drop(levels.columns[[0,1,2,3,4]], axis=1)[0:10].T.plot(kind=\"line\", title=\"10 largest markets per 3-5 FTE size companies\")\n",
    "levels.sort_values(\"5-10 FTE\", ascending=0).drop(levels.columns[[0,1,2,3,4]], axis=1)[0:10].T.plot(kind=\"line\", title=\"10 largest markets per 5-10 FTE size companies\")\n",
    "levels.sort_values(\"10-20 FTE\", ascending=0).drop(levels.columns[[0,1,2,3,4]], axis=1)[0:10].T.plot(kind=\"line\", title=\"10 largest markets per 10-20 FTE size companies\")\n",
    "levels.sort_values(\"20-50 FTE\", ascending=0).drop(levels.columns[[0,1,2,3,4]], axis=1)[0:10].T.plot(kind=\"line\", title=\"10 largest markets per 20-50 FTE size companies\")\n",
    "levels.sort_values(\"50-100 FTE\", ascending=0).drop(levels.columns[[0,1,2,3,4]], axis=1)[0:10].T.plot(kind=\"line\", title=\"10 largest markets per 50-100 FTE size companies\")\n",
    "levels.sort_values(\"100+ FTE\", ascending=0).drop(levels.columns[[0,1,2,3,4]], axis=1)[0:10].T.plot(kind=\"line\", title=\"10 largest markets per 100+ FTE size companies\")\n"
   ]
  },
  {
   "cell_type": "code",
   "execution_count": null,
   "metadata": {
    "collapsed": true
   },
   "outputs": [],
   "source": []
  }
 ],
 "metadata": {
  "kernelspec": {
   "display_name": "Python 2",
   "language": "python",
   "name": "python2"
  },
  "language_info": {
   "codemirror_mode": {
    "name": "ipython",
    "version": 2
   },
   "file_extension": ".py",
   "mimetype": "text/x-python",
   "name": "python",
   "nbconvert_exporter": "python",
   "pygments_lexer": "ipython2",
   "version": "2.7.11"
  }
 },
 "nbformat": 4,
 "nbformat_minor": 0
}
